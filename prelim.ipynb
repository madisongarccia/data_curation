{
 "cells": [
  {
   "cell_type": "code",
   "execution_count": 2,
   "metadata": {},
   "outputs": [],
   "source": [
    "import pandas as pd\n",
    "from selenium import webdriver\n",
    "from selenium.webdriver.chrome.service import Service as ChromeService\n",
    "from webdriver_manager.chrome import ChromeDriverManager\n",
    "from selenium.webdriver.common.by import By\n",
    "from bs4 import BeautifulSoup\n",
    "import requests\n",
    "import re\n",
    "import numpy as np"
   ]
  },
  {
   "cell_type": "code",
   "execution_count": 3,
   "metadata": {},
   "outputs": [],
   "source": [
    "url = 'https://www.indeed.com/jobs?q=Data+Science&l=Los+Angeles%2C+CA&vjk=74cadd03cb0dd918'\n",
    "driver = webdriver.Chrome(service=ChromeService(ChromeDriverManager().install()))\n",
    "driver.get(url)"
   ]
  },
  {
   "cell_type": "code",
   "execution_count": 12,
   "metadata": {},
   "outputs": [],
   "source": [
    "container = driver.find_element(By.XPATH, \".//div[contains(@id, 'mosaic-jobResults')]\")\n",
    "job_one = container.find_element(By.XPATH, \".//div[contains(@class, 'job_seen_beacon')]\")"
   ]
  },
  {
   "cell_type": "code",
   "execution_count": 6,
   "metadata": {},
   "outputs": [],
   "source": [
    "#first_title = job_one.find_element(By.XPATH, \".//h2[contains(@class, 'jobTitle')]\").text\n",
    "#first_company = job_one.find_element(By.XPATH, \".//div[contains(@class, 'company_location')]\").text.split(\"\\n\")[0]\n",
    "#first_rating = job_one.find_element(By.XPATH, \".//div[contains(@class, 'company_location')]\").text.split(\"\\n\")[1]\n",
    "#job_one.find_element(By.XPATH, \".//div[contains(@class, 'company_location')]\").text.split(\"\\n\")[2]\n",
    "#n = job_one.find_element(By.XPATH, \".//table[contains(@role, 'presentation')]\").text.split(\"\\n\")"
   ]
  },
  {
   "cell_type": "code",
   "execution_count": 13,
   "metadata": {},
   "outputs": [
    {
     "data": {
      "text/plain": [
       "'You will work with the chatbots that we are building in order to measure their progress, as well as write and evaluate code.\\nYou can work on your own schedule.\\nEmployer\\nActive 8 days ago'"
      ]
     },
     "execution_count": 13,
     "metadata": {},
     "output_type": "execute_result"
    }
   ],
   "source": [
    "job_one.find_element(By.XPATH, \".//tr[contains(@class, 'underShelfFooter')]\").text"
   ]
  },
  {
   "cell_type": "code",
   "execution_count": 14,
   "metadata": {},
   "outputs": [
    {
     "data": {
      "text/plain": [
       "'Active 8 days ag'"
      ]
     },
     "execution_count": 14,
     "metadata": {},
     "output_type": "execute_result"
    }
   ],
   "source": [
    "#job_one.find_element(By.XPATH, \"//span[contains(@data-testid, 'myJobsStateDate')]\").text.split(\"\\n\")[1]\n",
    "job_one.find_element(By.XPATH, \".//tr[contains(@class, 'underShelfFooter')]\").text.split(\"\\n\")[-1].strip(\"More...\")"
   ]
  },
  {
   "cell_type": "code",
   "execution_count": 15,
   "metadata": {},
   "outputs": [
    {
     "data": {
      "text/plain": [
       "['DataAnnotation', '4.5', 'Remote in Los Angeles, CA']"
      ]
     },
     "execution_count": 15,
     "metadata": {},
     "output_type": "execute_result"
    }
   ],
   "source": [
    "job_one.find_element(By.XPATH, \".//div[contains(@class, 'company_location')]\").text.split(\"\\n\")"
   ]
  },
  {
   "cell_type": "code",
   "execution_count": 30,
   "metadata": {},
   "outputs": [
    {
     "data": {
      "text/plain": [
       "'5'"
      ]
     },
     "execution_count": 30,
     "metadata": {},
     "output_type": "execute_result"
    }
   ],
   "source": [
    "pagination = driver.find_element(By.XPATH, \".//nav[contains(@role, 'navigation')]\")\n",
    "last_page = pagination.find_elements(By.XPATH, \".//a[contains(@data-testid, 'pagination-page-5')]\")[-1].text\n",
    "pagination.find_elements(By.XPATH, \".//li[contains(@class, 'css227srf')]\")"
   ]
  },
  {
   "cell_type": "code",
   "execution_count": 17,
   "metadata": {},
   "outputs": [
    {
     "data": {
      "text/plain": [
       "[<selenium.webdriver.remote.webelement.WebElement (session=\"e9c39064aae45431d0600ec7323f0d5d\", element=\"f.52729B4287949DABC7A1660F7578F857.d.0A51D195284787AB0F8227C042E95414.e.496\")>,\n",
       " <selenium.webdriver.remote.webelement.WebElement (session=\"e9c39064aae45431d0600ec7323f0d5d\", element=\"f.52729B4287949DABC7A1660F7578F857.d.0A51D195284787AB0F8227C042E95414.e.587\")>,\n",
       " <selenium.webdriver.remote.webelement.WebElement (session=\"e9c39064aae45431d0600ec7323f0d5d\", element=\"f.52729B4287949DABC7A1660F7578F857.d.0A51D195284787AB0F8227C042E95414.e.651\")>,\n",
       " <selenium.webdriver.remote.webelement.WebElement (session=\"e9c39064aae45431d0600ec7323f0d5d\", element=\"f.52729B4287949DABC7A1660F7578F857.d.0A51D195284787AB0F8227C042E95414.e.727\")>,\n",
       " <selenium.webdriver.remote.webelement.WebElement (session=\"e9c39064aae45431d0600ec7323f0d5d\", element=\"f.52729B4287949DABC7A1660F7578F857.d.0A51D195284787AB0F8227C042E95414.e.800\")>,\n",
       " <selenium.webdriver.remote.webelement.WebElement (session=\"e9c39064aae45431d0600ec7323f0d5d\", element=\"f.52729B4287949DABC7A1660F7578F857.d.0A51D195284787AB0F8227C042E95414.e.804\")>,\n",
       " <selenium.webdriver.remote.webelement.WebElement (session=\"e9c39064aae45431d0600ec7323f0d5d\", element=\"f.52729B4287949DABC7A1660F7578F857.d.0A51D195284787AB0F8227C042E95414.e.881\")>,\n",
       " <selenium.webdriver.remote.webelement.WebElement (session=\"e9c39064aae45431d0600ec7323f0d5d\", element=\"f.52729B4287949DABC7A1660F7578F857.d.0A51D195284787AB0F8227C042E95414.e.956\")>,\n",
       " <selenium.webdriver.remote.webelement.WebElement (session=\"e9c39064aae45431d0600ec7323f0d5d\", element=\"f.52729B4287949DABC7A1660F7578F857.d.0A51D195284787AB0F8227C042E95414.e.1018\")>,\n",
       " <selenium.webdriver.remote.webelement.WebElement (session=\"e9c39064aae45431d0600ec7323f0d5d\", element=\"f.52729B4287949DABC7A1660F7578F857.d.0A51D195284787AB0F8227C042E95414.e.1086\")>,\n",
       " <selenium.webdriver.remote.webelement.WebElement (session=\"e9c39064aae45431d0600ec7323f0d5d\", element=\"f.52729B4287949DABC7A1660F7578F857.d.0A51D195284787AB0F8227C042E95414.e.1182\")>,\n",
       " <selenium.webdriver.remote.webelement.WebElement (session=\"e9c39064aae45431d0600ec7323f0d5d\", element=\"f.52729B4287949DABC7A1660F7578F857.d.0A51D195284787AB0F8227C042E95414.e.1184\")>,\n",
       " <selenium.webdriver.remote.webelement.WebElement (session=\"e9c39064aae45431d0600ec7323f0d5d\", element=\"f.52729B4287949DABC7A1660F7578F857.d.0A51D195284787AB0F8227C042E95414.e.1242\")>,\n",
       " <selenium.webdriver.remote.webelement.WebElement (session=\"e9c39064aae45431d0600ec7323f0d5d\", element=\"f.52729B4287949DABC7A1660F7578F857.d.0A51D195284787AB0F8227C042E95414.e.1312\")>,\n",
       " <selenium.webdriver.remote.webelement.WebElement (session=\"e9c39064aae45431d0600ec7323f0d5d\", element=\"f.52729B4287949DABC7A1660F7578F857.d.0A51D195284787AB0F8227C042E95414.e.1389\")>,\n",
       " <selenium.webdriver.remote.webelement.WebElement (session=\"e9c39064aae45431d0600ec7323f0d5d\", element=\"f.52729B4287949DABC7A1660F7578F857.d.0A51D195284787AB0F8227C042E95414.e.1460\")>,\n",
       " <selenium.webdriver.remote.webelement.WebElement (session=\"e9c39064aae45431d0600ec7323f0d5d\", element=\"f.52729B4287949DABC7A1660F7578F857.d.0A51D195284787AB0F8227C042E95414.e.1536\")>,\n",
       " <selenium.webdriver.remote.webelement.WebElement (session=\"e9c39064aae45431d0600ec7323f0d5d\", element=\"f.52729B4287949DABC7A1660F7578F857.d.0A51D195284787AB0F8227C042E95414.e.1538\")>]"
      ]
     },
     "execution_count": 17,
     "metadata": {},
     "output_type": "execute_result"
    }
   ],
   "source": [
    "container.find_elements(By.XPATH, \".//li[contains(@class, 'css-5lfssm')]\")"
   ]
  },
  {
   "cell_type": "code",
   "execution_count": 18,
   "metadata": {},
   "outputs": [
    {
     "name": "stdout",
     "output_type": "stream",
     "text": [
      "40\n"
     ]
    }
   ],
   "source": [
    "# try getting pay amount\n",
    "string = job_one.find_element(By.XPATH, \".//div[contains(@class, 'salary-snippet-container')]\").text\n",
    "listy = string.split()\n",
    "for element in listy:\n",
    "    if \"$\" in element:\n",
    "        pay = element\n",
    "\n",
    "print(pay.strip(\"$\"))\n"
   ]
  },
  {
   "cell_type": "code",
   "execution_count": 5,
   "metadata": {},
   "outputs": [],
   "source": [
    "job_titles = []\n",
    "company_names = []\n",
    "company_ratings = []\n",
    "company_locations = []\n",
    "job_pays = []\n",
    "descriptions = []\n",
    "posted = []\n",
    "current_page = 1\n",
    "\n",
    "pagination = driver.find_element(By.XPATH, \".//nav[contains(@role, 'navigation')]\")\n",
    "last_page = pagination.find_elements(By.XPATH, \".//a[contains(@data-testid, 'pagination-page-5')]\")[-1].text\n",
    "\n",
    "\n",
    "while current_page <= int(last_page):\n",
    "    container = driver.find_element(By.XPATH, \".//div[contains(@id, 'mosaic-jobResults')]\")\n",
    "    all_jobs = container.find_elements(By.XPATH, \".//div[contains(@class, 'job_seen_beacon')]\")\n",
    "    for job in all_jobs:\n",
    "        title = job.find_element(By.XPATH, \".//h2[contains(@class, 'jobTitle')]\").text\n",
    "        try:\n",
    "            location = job.find_element(By.XPATH, \".//div[contains(@class, 'company_location')]\").text.split(\"\\n\")[1]\n",
    "        except:\n",
    "            location = job.find_element(By.XPATH, \".//div[contains(@class, 'company_location')]\").text.split(\"\\n\")[0]\n",
    "        company = job.find_element(By.XPATH, \".//div[contains(@class, 'company_location')]\").text.split(\"\\n\")[0]\n",
    "        when_posted= job.find_element(By.XPATH, \".//tr[contains(@class, 'underShelfFooter')]\").text.split(\"\\n\")[-1].strip(\"More...\")\n",
    "        description = job.find_element(By.XPATH, \".//tr[contains(@class, 'underShelfFooter')]\").text.split(\"\\n\")[0]\n",
    "        try:\n",
    "            string = job.find_element(By.XPATH, \".//div[contains(@class, 'salary-snippet-container')]\").text\n",
    "            listy = string.split()\n",
    "            for element in listy:\n",
    "                if \"$\" in element:\n",
    "                    pay = element\n",
    "        except:\n",
    "            pay = \"NaN\"\n",
    "        job_titles.append(title)\n",
    "        job_pays.append(pay)\n",
    "        company_names.append(company)\n",
    "        descriptions.append(description)\n",
    "        company_locations.append(location)\n",
    "        posted.append(when_posted)\n",
    "    current_page += 1\n",
    "    try:\n",
    "        next = driver.find_element(By.XPATH, \".//a[contains(@data-testid, 'pagination-page-next')]\")\n",
    "        next.click()\n",
    "    except:\n",
    "        #next = False\n",
    "        pass"
   ]
  },
  {
   "cell_type": "code",
   "execution_count": 34,
   "metadata": {},
   "outputs": [],
   "source": [
    "# goes to 5 pages\n",
    "\"\"\"\n",
    "job_titles = []\n",
    "company_names = []\n",
    "company_ratings = []\n",
    "company_locations = []\n",
    "job_pays = []\n",
    "descriptions = []\n",
    "posted = []\n",
    "current_page = 1\n",
    "\n",
    "pagination = driver.find_element(By.XPATH, \".//nav[contains(@role, 'navigation')]\")\n",
    "last_page = pagination.find_elements(By.XPATH, \".//a[contains(@data-testid, 'pagination-page-5')]\")[-1].text\n",
    "\n",
    "while current_page <= int(last_page):\n",
    "    container = driver.find_element(By.XPATH, \".//div[contains(@id, 'mosaic-jobResults')]\")\n",
    "    all_jobs = container.find_elements(By.XPATH, \".//div[contains(@class, 'job_seen_beacon')]\")\n",
    "    for job in all_jobs:\n",
    "        title = job.find_element(By.XPATH, \".//h2[contains(@class, 'jobTitle')]\").text\n",
    "        try:\n",
    "            location = job.find_element(By.XPATH, \".//div[contains(@class, 'company_location')]\").text.split(\"\\n\")[1]\n",
    "        except:\n",
    "            location = job.find_element(By.XPATH, \".//div[contains(@class, 'company_location')]\").text.split(\"\\n\")[0]\n",
    "        company = job.find_element(By.XPATH, \".//div[contains(@class, 'company_location')]\").text.split(\"\\n\")[0]\n",
    "        when_posted= job.find_element(By.XPATH, \".//tr[contains(@class, 'underShelfFooter')]\").text.split(\"\\n\")[-1].strip(\"More...\")\n",
    "        description = job.find_element(By.XPATH, \".//tr[contains(@class, 'underShelfFooter')]\").text.split(\"\\n\")[0]\n",
    "        job_titles.append(title)\n",
    "        job_pays.append(pay)\n",
    "        company_names.append(company)\n",
    "        descriptions.append(description)\n",
    "        company_locations.append(location)\n",
    "        posted.append(when_posted)\n",
    "    current_page += 1\n",
    "    try:\n",
    "        next = driver.find_element(By.XPATH, \".//a[contains(@data-testid, 'pagination-page-next')]\")\n",
    "        next.click()\n",
    "    except:\n",
    "        pass\n",
    "\"\"\""
   ]
  },
  {
   "cell_type": "code",
   "execution_count": 53,
   "metadata": {},
   "outputs": [
    {
     "data": {
      "text/plain": [
       "'\\njob_titles = []\\ncompany_names = []\\ncompany_ratings = []\\ncompany_locations = []\\njob_pays = []\\ndescriptions = []\\nposted = []\\ncurrent_page = 1\\n\\npagination = driver.find_element(By.XPATH, \".//nav[contains(@role, \\'navigation\\')]\")\\nlast_page = pagination.find_elements(By.XPATH, \".//a[contains(@data-testid, \\'pagination-page-5\\')]\")[-1].text\\n\\nwhile current_page <= int(last_page):\\n    container = driver.find_element(By.XPATH, \".//div[contains(@id, \\'mosaic-jobResults\\')]\")\\n    all_jobs = container.find_elements(By.XPATH, \".//div[contains(@class, \\'job_seen_beacon\\')]\")\\n    for job in all_jobs:\\n        title = job.find_element(By.XPATH, \".//h2[contains(@class, \\'jobTitle\\')]\").text\\n        company = job.find_element(By.XPATH, \".//div[contains(@class, \\'company_location\\')]\").text.split(\"\\n\")[0]\\n        location = job.find_element(By.XPATH, \".//div[contains(@class, \\'company_location\\')]\").text.split(\"\\n\")[1]\\n        when_posted= job.find_element(By.XPATH, \"//span[contains(@data-testid, \\'myJobsStateDate\\')]\").text.split(\"\\n\")[1]\\n        description = job.find_element(By.XPATH, \"//div[contains(@class, \\'css-9446fg\\')]\").text\\n        job_titles.append(title)\\n        company_names.append(company)\\n        descriptions.append(description)\\n        company_locations.append(location)\\n        posted.append(when_posted)\\n    current_page += 1\\n    try:\\n        next = driver.find_element(By.XPATH, \".//a[contains(@data-testid, \\'pagination-page-next\\')]\")\\n        next.click()\\n    except:\\n        pass\\n'"
      ]
     },
     "execution_count": 53,
     "metadata": {},
     "output_type": "execute_result"
    }
   ],
   "source": [
    "\"\"\"\n",
    "job_titles = []\n",
    "company_names = []\n",
    "company_ratings = []\n",
    "company_locations = []\n",
    "job_pays = []\n",
    "descriptions = []\n",
    "posted = []\n",
    "current_page = 1\n",
    "\n",
    "pagination = driver.find_element(By.XPATH, \".//nav[contains(@role, 'navigation')]\")\n",
    "last_page = pagination.find_elements(By.XPATH, \".//a[contains(@data-testid, 'pagination-page-5')]\")[-1].text\n",
    "\n",
    "while current_page <= int(last_page):\n",
    "    container = driver.find_element(By.XPATH, \".//div[contains(@id, 'mosaic-jobResults')]\")\n",
    "    all_jobs = container.find_elements(By.XPATH, \".//div[contains(@class, 'job_seen_beacon')]\")\n",
    "    for job in all_jobs:\n",
    "        title = job.find_element(By.XPATH, \".//h2[contains(@class, 'jobTitle')]\").text\n",
    "        company = job.find_element(By.XPATH, \".//div[contains(@class, 'company_location')]\").text.split(\"\\n\")[0]\n",
    "        location = job.find_element(By.XPATH, \".//div[contains(@class, 'company_location')]\").text.split(\"\\n\")[1]\n",
    "        when_posted= job.find_element(By.XPATH, \"//span[contains(@data-testid, 'myJobsStateDate')]\").text.split(\"\\n\")[1]\n",
    "        description = job.find_element(By.XPATH, \"//div[contains(@class, 'css-9446fg')]\").text\n",
    "        job_titles.append(title)\n",
    "        company_names.append(company)\n",
    "        descriptions.append(description)\n",
    "        company_locations.append(location)\n",
    "        posted.append(when_posted)\n",
    "    current_page += 1\n",
    "    try:\n",
    "        next = driver.find_element(By.XPATH, \".//a[contains(@data-testid, 'pagination-page-next')]\")\n",
    "        next.click()\n",
    "    except:\n",
    "        pass\n",
    "\"\"\""
   ]
  },
  {
   "cell_type": "code",
   "execution_count": 49,
   "metadata": {},
   "outputs": [],
   "source": [
    "#separate into city and state\n",
    "cities = []\n",
    "states = []\n",
    "# Parse location data\n",
    "for location in company_locations:\n",
    "    parts = location.split(', ')\n",
    "    if len(parts) > 1:\n",
    "        city = parts[0]\n",
    "        state = parts[1] if len(parts) > 1 else None\n",
    "        cities.append(city)\n",
    "        states.append(state[:2])\n",
    "    else:\n",
    "        cities.append(np.nan)\n",
    "        states.append(np.nan)\n",
    "#make salaries integers\n",
    "salaries = []\n",
    "for salary in job_pays:\n",
    "    if salary == \"NaN\" or salary == \"\":\n",
    "        salaries.append(np.nan)\n",
    "    else:\n",
    "        salaries.append(int(salary.replace('$', '').replace(',', '')))\n",
    "job_info = pd.DataFrame({\"Title\": job_titles,\n",
    "              \"Company\": company_names,\n",
    "              \"Location\": company_locations,\n",
    "              \"Job Description\": descriptions,\n",
    "              \"When Posted\": posted,\n",
    "              \"Pay\": salaries,\n",
    "              \"City\":cities,\n",
    "               \"State\": states})\n",
    "#try getting hybrid or remote status\n",
    "def is_hybrid_remote(location):\n",
    "    return 'Hybrid' in location or 'Remote' in location\n",
    "\n",
    "# Apply the function to create a new column 'Is_Hybrid_Remote'\n",
    "job_info['Is_Hybrid_Remote'] = job_info['Location'].apply(is_hybrid_remote)"
   ]
  },
  {
   "cell_type": "code",
   "execution_count": 68,
   "metadata": {},
   "outputs": [],
   "source": [
    "#job_info.to_csv(\"more_info.csv\")"
   ]
  },
  {
   "cell_type": "code",
   "execution_count": 27,
   "metadata": {},
   "outputs": [],
   "source": [
    "driver.quit()"
   ]
  }
 ],
 "metadata": {
  "kernelspec": {
   "display_name": "stat386",
   "language": "python",
   "name": "python3"
  },
  "language_info": {
   "codemirror_mode": {
    "name": "ipython",
    "version": 3
   },
   "file_extension": ".py",
   "mimetype": "text/x-python",
   "name": "python",
   "nbconvert_exporter": "python",
   "pygments_lexer": "ipython3",
   "version": "3.11.7"
  }
 },
 "nbformat": 4,
 "nbformat_minor": 2
}
